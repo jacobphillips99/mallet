{
 "cells": [
  {
   "cell_type": "code",
   "execution_count": null,
   "metadata": {},
   "outputs": [],
   "source": [
    "!pip install numpy matplotlib seaborn"
   ]
  },
  {
   "cell_type": "code",
   "execution_count": 9,
   "metadata": {},
   "outputs": [],
   "source": [
    "import numpy as np \n",
    "import matplotlib.pyplot as plt \n",
    "bridge_trajs = np.load(\"assets/bridge_v2_10_trajs.npy\", allow_pickle=True)"
   ]
  },
  {
   "cell_type": "code",
   "execution_count": null,
   "metadata": {},
   "outputs": [],
   "source": []
  },
  {
   "cell_type": "code",
   "execution_count": null,
   "metadata": {},
   "outputs": [],
   "source": [
    "bridge_trajs[0]['observations'][0].keys()"
   ]
  },
  {
   "cell_type": "code",
   "execution_count": null,
   "metadata": {},
   "outputs": [],
   "source": [
    "state_deltas = []\n",
    "states = []\n",
    "actions = []\n",
    "\n",
    "STATE_WINDOW = 2\n",
    "\n",
    "for i, traj in enumerate(bridge_trajs):\n",
    "    # original implementation tries move_trajs = [states[i : i + 4] for i in range(len(states) - 1)]\n",
    "    these_states = np.array([obs['state'] for obs in traj['observations']])\n",
    "    state_chunks = [these_states[i : i + STATE_WINDOW] for i in range(len(these_states) - STATE_WINDOW + 1)]\n",
    "    \n",
    "    if i == 0:\n",
    "        print(state_chunks[0])\n",
    "    these_state_deltas = np.array([chunk[-1] - chunk[0] for chunk in state_chunks])\n",
    "    state_deltas.append(np.array(these_state_deltas))\n",
    "\n",
    "    these_actions = np.array(traj['actions'])\n",
    "    actions.append(np.array(these_actions))\n",
    "    states.append(np.array(these_states))\n"
   ]
  },
  {
   "cell_type": "code",
   "execution_count": null,
   "metadata": {},
   "outputs": [],
   "source": [
    "stacked_state_deltas = np.concat(state_deltas, axis=0)\n",
    "stacked_actions = np.concat(actions, axis=0)\n",
    "print(\"states: \", stacked_state_deltas.shape)\n",
    "print(\"actions: \", stacked_actions.shape)\n"
   ]
  },
  {
   "cell_type": "code",
   "execution_count": 13,
   "metadata": {},
   "outputs": [],
   "source": [
    "import matplotlib.pyplot as plt\n",
    "import seaborn as sns\n",
    "import numpy as np\n",
    "\n",
    "# Define the joint descriptions\n",
    "joint_info = {\n",
    "    0: (\"X-Axis\", \"Forward (+) / Backward (-)\"),\n",
    "    1: (\"Y-Axis\", \"Left (+) / Right (-)\"),\n",
    "    2: (\"Z-Axis\", \"Up (+) / Down (-)\"),\n",
    "    3: (\"Pitch\", \"Tilt Up (+) / Down (-)\"),\n",
    "    4: (\"Roll\", \"Roll Up (+) / Down (-)\"),\n",
    "    5: (\"Yaw\", \"Rotate CCW (+) / CW (-)\"),\n",
    "    6: (\"Gripper\", \"Open (+) / Close (-)\")\n",
    "}\n",
    "\n",
    "def plot_joint_distributions(stacked_state_deltas: np.ndarray, stacked_actions: np.ndarray) -> None:\n",
    "    \"\"\"\n",
    "    Plot overlaid distributions of state deltas and actions for each joint.\n",
    "    \n",
    "    Args:\n",
    "        stacked_state_deltas: Array of shape (n_samples, 7) containing state delta values\n",
    "        stacked_actions: Array of shape (n_samples, 7) containing action values\n",
    "    \"\"\"\n",
    "    # Create a figure with subplots arranged in a 3x3 grid\n",
    "    fig, axes = plt.subplots(3, 3, figsize=(15, 15))\n",
    "    axes = axes.flatten()\n",
    "\n",
    "    # Colors for the two distributions\n",
    "    state_color = '#3498db'  # Blue for states\n",
    "    action_color = '#e74c3c'  # Red for actions\n",
    "\n",
    "    # Plot each joint's distribution\n",
    "    for joint_idx in range(7):\n",
    "        ax = axes[joint_idx]\n",
    "        \n",
    "        # Plot state deltas\n",
    "        sns.histplot(\n",
    "            data=stacked_state_deltas[:, joint_idx],\n",
    "            kde=True,\n",
    "            ax=ax,\n",
    "            color=state_color,\n",
    "            alpha=0.4,\n",
    "            label='State Deltas',\n",
    "            stat='density'\n",
    "        )\n",
    "        \n",
    "        # Overlay action distribution\n",
    "        sns.histplot(\n",
    "            data=stacked_actions[:, joint_idx],\n",
    "            kde=True,\n",
    "            ax=ax,\n",
    "            color=action_color,\n",
    "            alpha=0.4,\n",
    "            label='Actions',\n",
    "            stat='density'\n",
    "        )\n",
    "        \n",
    "        # Add title and labels\n",
    "        joint_name, joint_desc = joint_info[joint_idx]\n",
    "        ax.set_title(f'{joint_name}\\n{joint_desc}', fontsize=10)\n",
    "        ax.set_xlabel('Value')\n",
    "        ax.set_ylabel('Density')\n",
    "        \n",
    "        # Add legend\n",
    "        ax.legend()\n",
    "        \n",
    "        # Add statistics as text\n",
    "        state_mean = np.mean(stacked_state_deltas[:, joint_idx])\n",
    "        state_std = np.std(stacked_state_deltas[:, joint_idx])\n",
    "        action_mean = np.mean(stacked_actions[:, joint_idx])\n",
    "        action_std = np.std(stacked_actions[:, joint_idx])\n",
    "        \n",
    "        stats_text = (f'States: μ = {state_mean:.3f}, σ = {state_std:.3f}\\n'\n",
    "                     f'Actions: μ = {action_mean:.3f}, σ = {action_std:.3f}')\n",
    "        \n",
    "        ax.text(0.95, 0.95, stats_text,\n",
    "                transform=ax.transAxes,\n",
    "                verticalalignment='top',\n",
    "                horizontalalignment='right',\n",
    "                bbox=dict(facecolor='white', alpha=0.8),\n",
    "                fontsize=8)\n",
    "\n",
    "    # Remove the unused subplots\n",
    "    for idx in range(7, 9):\n",
    "        fig.delaxes(axes[idx])\n",
    "\n",
    "    plt.suptitle('Robot Joint State and Action Distributions', fontsize=14, y=1.02)\n",
    "    plt.tight_layout()\n",
    "    plt.show()\n",
    "\n",
    "    # Print detailed statistics\n",
    "    print(\"\\nDetailed Joint Statistics:\")\n",
    "    for joint_idx in range(7):\n",
    "        joint_name, joint_desc = joint_info[joint_idx]\n",
    "        state_data = stacked_state_deltas[:, joint_idx]\n",
    "        action_data = stacked_actions[:, joint_idx]\n",
    "        \n",
    "        print(f\"\\n{joint_name} ({joint_desc}):\")\n",
    "        print(\"State Deltas:\")\n",
    "        print(f\"  Mean: {np.mean(state_data):.3f}\")\n",
    "        print(f\"  Std:  {np.std(state_data):.3f}\")\n",
    "        print(f\"  Min:  {np.min(state_data):.3f}\")\n",
    "        print(f\"  Max:  {np.max(state_data):.3f}\")\n",
    "        print(f\"  Median: {np.median(state_data):.3f}\")\n",
    "        \n",
    "        print(\"Actions:\")\n",
    "        print(f\"  Mean: {np.mean(action_data):.3f}\")\n",
    "        print(f\"  Std:  {np.std(action_data):.3f}\")\n",
    "        print(f\"  Min:  {np.min(action_data):.3f}\")\n",
    "        print(f\"  Max:  {np.max(action_data):.3f}\")\n",
    "        print(f\"  Median: {np.median(action_data):.3f}\")"
   ]
  },
  {
   "cell_type": "code",
   "execution_count": null,
   "metadata": {},
   "outputs": [],
   "source": [
    "# Example usage\n",
    "plot_joint_distributions(stacked_state_deltas, stacked_actions)"
   ]
  },
  {
   "cell_type": "code",
   "execution_count": null,
   "metadata": {},
   "outputs": [],
   "source": [
    "stacked_states = np.concat(states, axis=0)\n",
    "print(stacked_states.shape)"
   ]
  },
  {
   "cell_type": "code",
   "execution_count": null,
   "metadata": {},
   "outputs": [],
   "source": [
    "gripper_states = stacked_states[:, 6]\n",
    "gripper_actions = stacked_actions[:, 6] +.01\n",
    "gripper_state_deltas = stacked_state_deltas[:, 6] +.01\n",
    "plt.scatter(np.arange(len(gripper_states)), gripper_states, label='Gripper State')\n",
    "plt.scatter(np.arange(len(gripper_actions)), gripper_actions, label='Gripper Action')\n",
    "# plt.scatter(np.arange(len(gripper_state_deltas)), gripper_state_deltas, label='Gripper State Delta')\n",
    "plt.legend()\n",
    "plt.show()\n"
   ]
  },
  {
   "cell_type": "code",
   "execution_count": null,
   "metadata": {},
   "outputs": [],
   "source": [
    "plt.hist(gripper_states, bins=100)"
   ]
  }
 ],
 "metadata": {
  "kernelspec": {
   "display_name": "lapa",
   "language": "python",
   "name": "python3"
  },
  "language_info": {
   "codemirror_mode": {
    "name": "ipython",
    "version": 3
   },
   "file_extension": ".py",
   "mimetype": "text/x-python",
   "name": "python",
   "nbconvert_exporter": "python",
   "pygments_lexer": "ipython3",
   "version": "3.10.15"
  }
 },
 "nbformat": 4,
 "nbformat_minor": 2
}
