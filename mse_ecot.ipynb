{
 "cells": [
  {
   "cell_type": "code",
   "execution_count": 2,
   "metadata": {},
   "outputs": [],
   "source": [
    "%load_ext autoreload\n",
    "%autoreload 2\n"
   ]
  },
  {
   "cell_type": "code",
   "execution_count": 3,
   "metadata": {},
   "outputs": [
    {
     "name": "stdout",
     "output_type": "stream",
     "text": [
      "Requirement already satisfied: litellm in /Users/jphillips/miniforge3/envs/lapa/lib/python3.10/site-packages (from -r requirements.txt (line 1)) (1.65.3)\n",
      "Requirement already satisfied: pillow in /Users/jphillips/miniforge3/envs/lapa/lib/python3.10/site-packages (from -r requirements.txt (line 2)) (11.0.0)\n",
      "Requirement already satisfied: fastapi in /Users/jphillips/miniforge3/envs/lapa/lib/python3.10/site-packages (from -r requirements.txt (line 3)) (0.115.12)\n",
      "Requirement already satisfied: uvicorn in /Users/jphillips/miniforge3/envs/lapa/lib/python3.10/site-packages (from -r requirements.txt (line 4)) (0.34.0)\n",
      "Requirement already satisfied: pydantic in /Users/jphillips/miniforge3/envs/lapa/lib/python3.10/site-packages (from -r requirements.txt (line 5)) (2.11.2)\n",
      "Requirement already satisfied: numpy in /Users/jphillips/miniforge3/envs/lapa/lib/python3.10/site-packages (from -r requirements.txt (line 6)) (2.1.2)\n",
      "Requirement already satisfied: aiohttp in /Users/jphillips/miniforge3/envs/lapa/lib/python3.10/site-packages (from -r requirements.txt (line 7)) (3.10.10)\n",
      "Requirement already satisfied: pyyaml in /Users/jphillips/miniforge3/envs/lapa/lib/python3.10/site-packages (from -r requirements.txt (line 8)) (6.0.2)\n",
      "Requirement already satisfied: pytest in /Users/jphillips/miniforge3/envs/lapa/lib/python3.10/site-packages (from -r requirements.txt (line 11)) (8.3.5)\n",
      "Requirement already satisfied: black in /Users/jphillips/miniforge3/envs/lapa/lib/python3.10/site-packages (from -r requirements.txt (line 12)) (25.1.0)\n",
      "Requirement already satisfied: ruff in /Users/jphillips/miniforge3/envs/lapa/lib/python3.10/site-packages (from -r requirements.txt (line 13)) (0.11.4)\n",
      "Requirement already satisfied: mypy in /Users/jphillips/miniforge3/envs/lapa/lib/python3.10/site-packages (from -r requirements.txt (line 14)) (1.15.0)\n",
      "Requirement already satisfied: isort in /Users/jphillips/miniforge3/envs/lapa/lib/python3.10/site-packages (from -r requirements.txt (line 15)) (6.0.1)\n",
      "Requirement already satisfied: pre-commit in /Users/jphillips/miniforge3/envs/lapa/lib/python3.10/site-packages (from -r requirements.txt (line 16)) (4.2.0)\n",
      "Requirement already satisfied: click in /Users/jphillips/miniforge3/envs/lapa/lib/python3.10/site-packages (from litellm->-r requirements.txt (line 1)) (8.1.8)\n",
      "Requirement already satisfied: httpx>=0.23.0 in /Users/jphillips/miniforge3/envs/lapa/lib/python3.10/site-packages (from litellm->-r requirements.txt (line 1)) (0.28.1)\n",
      "Requirement already satisfied: importlib-metadata>=6.8.0 in /Users/jphillips/miniforge3/envs/lapa/lib/python3.10/site-packages (from litellm->-r requirements.txt (line 1)) (8.6.1)\n",
      "Requirement already satisfied: jinja2<4.0.0,>=3.1.2 in /Users/jphillips/miniforge3/envs/lapa/lib/python3.10/site-packages (from litellm->-r requirements.txt (line 1)) (3.1.4)\n",
      "Requirement already satisfied: jsonschema<5.0.0,>=4.22.0 in /Users/jphillips/miniforge3/envs/lapa/lib/python3.10/site-packages (from litellm->-r requirements.txt (line 1)) (4.23.0)\n",
      "Requirement already satisfied: openai>=1.68.2 in /Users/jphillips/miniforge3/envs/lapa/lib/python3.10/site-packages (from litellm->-r requirements.txt (line 1)) (1.70.0)\n",
      "Requirement already satisfied: python-dotenv>=0.2.0 in /Users/jphillips/miniforge3/envs/lapa/lib/python3.10/site-packages (from litellm->-r requirements.txt (line 1)) (1.1.0)\n",
      "Requirement already satisfied: tiktoken>=0.7.0 in /Users/jphillips/miniforge3/envs/lapa/lib/python3.10/site-packages (from litellm->-r requirements.txt (line 1)) (0.9.0)\n",
      "Requirement already satisfied: tokenizers in /Users/jphillips/miniforge3/envs/lapa/lib/python3.10/site-packages (from litellm->-r requirements.txt (line 1)) (0.20.1)\n",
      "Requirement already satisfied: starlette<0.47.0,>=0.40.0 in /Users/jphillips/miniforge3/envs/lapa/lib/python3.10/site-packages (from fastapi->-r requirements.txt (line 3)) (0.46.1)\n",
      "Requirement already satisfied: typing-extensions>=4.8.0 in /Users/jphillips/miniforge3/envs/lapa/lib/python3.10/site-packages (from fastapi->-r requirements.txt (line 3)) (4.12.2)\n",
      "Requirement already satisfied: h11>=0.8 in /Users/jphillips/miniforge3/envs/lapa/lib/python3.10/site-packages (from uvicorn->-r requirements.txt (line 4)) (0.14.0)\n",
      "Requirement already satisfied: annotated-types>=0.6.0 in /Users/jphillips/miniforge3/envs/lapa/lib/python3.10/site-packages (from pydantic->-r requirements.txt (line 5)) (0.7.0)\n",
      "Requirement already satisfied: pydantic-core==2.33.1 in /Users/jphillips/miniforge3/envs/lapa/lib/python3.10/site-packages (from pydantic->-r requirements.txt (line 5)) (2.33.1)\n",
      "Requirement already satisfied: typing-inspection>=0.4.0 in /Users/jphillips/miniforge3/envs/lapa/lib/python3.10/site-packages (from pydantic->-r requirements.txt (line 5)) (0.4.0)\n",
      "Requirement already satisfied: aiohappyeyeballs>=2.3.0 in /Users/jphillips/miniforge3/envs/lapa/lib/python3.10/site-packages (from aiohttp->-r requirements.txt (line 7)) (2.4.3)\n",
      "Requirement already satisfied: aiosignal>=1.1.2 in /Users/jphillips/miniforge3/envs/lapa/lib/python3.10/site-packages (from aiohttp->-r requirements.txt (line 7)) (1.3.1)\n",
      "Requirement already satisfied: attrs>=17.3.0 in /Users/jphillips/miniforge3/envs/lapa/lib/python3.10/site-packages (from aiohttp->-r requirements.txt (line 7)) (24.2.0)\n",
      "Requirement already satisfied: frozenlist>=1.1.1 in /Users/jphillips/miniforge3/envs/lapa/lib/python3.10/site-packages (from aiohttp->-r requirements.txt (line 7)) (1.5.0)\n",
      "Requirement already satisfied: multidict<7.0,>=4.5 in /Users/jphillips/miniforge3/envs/lapa/lib/python3.10/site-packages (from aiohttp->-r requirements.txt (line 7)) (6.1.0)\n",
      "Requirement already satisfied: yarl<2.0,>=1.12.0 in /Users/jphillips/miniforge3/envs/lapa/lib/python3.10/site-packages (from aiohttp->-r requirements.txt (line 7)) (1.16.0)\n",
      "Requirement already satisfied: async-timeout<5.0,>=4.0 in /Users/jphillips/miniforge3/envs/lapa/lib/python3.10/site-packages (from aiohttp->-r requirements.txt (line 7)) (4.0.3)\n",
      "Requirement already satisfied: exceptiongroup>=1.0.0rc8 in /Users/jphillips/miniforge3/envs/lapa/lib/python3.10/site-packages (from pytest->-r requirements.txt (line 11)) (1.2.2)\n",
      "Requirement already satisfied: iniconfig in /Users/jphillips/miniforge3/envs/lapa/lib/python3.10/site-packages (from pytest->-r requirements.txt (line 11)) (2.1.0)\n",
      "Requirement already satisfied: packaging in /Users/jphillips/miniforge3/envs/lapa/lib/python3.10/site-packages (from pytest->-r requirements.txt (line 11)) (24.1)\n",
      "Requirement already satisfied: pluggy<2,>=1.5 in /Users/jphillips/miniforge3/envs/lapa/lib/python3.10/site-packages (from pytest->-r requirements.txt (line 11)) (1.5.0)\n",
      "Requirement already satisfied: tomli>=1 in /Users/jphillips/miniforge3/envs/lapa/lib/python3.10/site-packages (from pytest->-r requirements.txt (line 11)) (2.2.1)\n",
      "Requirement already satisfied: mypy-extensions>=0.4.3 in /Users/jphillips/miniforge3/envs/lapa/lib/python3.10/site-packages (from black->-r requirements.txt (line 12)) (1.0.0)\n",
      "Requirement already satisfied: pathspec>=0.9.0 in /Users/jphillips/miniforge3/envs/lapa/lib/python3.10/site-packages (from black->-r requirements.txt (line 12)) (0.12.1)\n",
      "Requirement already satisfied: platformdirs>=2 in /Users/jphillips/miniforge3/envs/lapa/lib/python3.10/site-packages (from black->-r requirements.txt (line 12)) (4.3.7)\n",
      "Requirement already satisfied: cfgv>=2.0.0 in /Users/jphillips/miniforge3/envs/lapa/lib/python3.10/site-packages (from pre-commit->-r requirements.txt (line 16)) (3.4.0)\n",
      "Requirement already satisfied: identify>=1.0.0 in /Users/jphillips/miniforge3/envs/lapa/lib/python3.10/site-packages (from pre-commit->-r requirements.txt (line 16)) (2.6.9)\n",
      "Requirement already satisfied: nodeenv>=0.11.1 in /Users/jphillips/miniforge3/envs/lapa/lib/python3.10/site-packages (from pre-commit->-r requirements.txt (line 16)) (1.9.1)\n",
      "Requirement already satisfied: virtualenv>=20.10.0 in /Users/jphillips/miniforge3/envs/lapa/lib/python3.10/site-packages (from pre-commit->-r requirements.txt (line 16)) (20.30.0)\n",
      "Requirement already satisfied: anyio in /Users/jphillips/miniforge3/envs/lapa/lib/python3.10/site-packages (from httpx>=0.23.0->litellm->-r requirements.txt (line 1)) (4.9.0)\n",
      "Requirement already satisfied: certifi in /Users/jphillips/miniforge3/envs/lapa/lib/python3.10/site-packages (from httpx>=0.23.0->litellm->-r requirements.txt (line 1)) (2024.8.30)\n",
      "Requirement already satisfied: httpcore==1.* in /Users/jphillips/miniforge3/envs/lapa/lib/python3.10/site-packages (from httpx>=0.23.0->litellm->-r requirements.txt (line 1)) (1.0.7)\n",
      "Requirement already satisfied: idna in /Users/jphillips/miniforge3/envs/lapa/lib/python3.10/site-packages (from httpx>=0.23.0->litellm->-r requirements.txt (line 1)) (3.10)\n",
      "Requirement already satisfied: zipp>=3.20 in /Users/jphillips/miniforge3/envs/lapa/lib/python3.10/site-packages (from importlib-metadata>=6.8.0->litellm->-r requirements.txt (line 1)) (3.21.0)\n",
      "Requirement already satisfied: MarkupSafe>=2.0 in /Users/jphillips/miniforge3/envs/lapa/lib/python3.10/site-packages (from jinja2<4.0.0,>=3.1.2->litellm->-r requirements.txt (line 1)) (3.0.2)\n",
      "Requirement already satisfied: jsonschema-specifications>=2023.03.6 in /Users/jphillips/miniforge3/envs/lapa/lib/python3.10/site-packages (from jsonschema<5.0.0,>=4.22.0->litellm->-r requirements.txt (line 1)) (2024.10.1)\n",
      "Requirement already satisfied: referencing>=0.28.4 in /Users/jphillips/miniforge3/envs/lapa/lib/python3.10/site-packages (from jsonschema<5.0.0,>=4.22.0->litellm->-r requirements.txt (line 1)) (0.36.2)\n",
      "Requirement already satisfied: rpds-py>=0.7.1 in /Users/jphillips/miniforge3/envs/lapa/lib/python3.10/site-packages (from jsonschema<5.0.0,>=4.22.0->litellm->-r requirements.txt (line 1)) (0.24.0)\n",
      "Requirement already satisfied: distro<2,>=1.7.0 in /Users/jphillips/miniforge3/envs/lapa/lib/python3.10/site-packages (from openai>=1.68.2->litellm->-r requirements.txt (line 1)) (1.9.0)\n",
      "Requirement already satisfied: jiter<1,>=0.4.0 in /Users/jphillips/miniforge3/envs/lapa/lib/python3.10/site-packages (from openai>=1.68.2->litellm->-r requirements.txt (line 1)) (0.9.0)\n",
      "Requirement already satisfied: sniffio in /Users/jphillips/miniforge3/envs/lapa/lib/python3.10/site-packages (from openai>=1.68.2->litellm->-r requirements.txt (line 1)) (1.3.1)\n",
      "Requirement already satisfied: tqdm>4 in /Users/jphillips/miniforge3/envs/lapa/lib/python3.10/site-packages (from openai>=1.68.2->litellm->-r requirements.txt (line 1)) (4.66.5)\n",
      "Requirement already satisfied: regex>=2022.1.18 in /Users/jphillips/miniforge3/envs/lapa/lib/python3.10/site-packages (from tiktoken>=0.7.0->litellm->-r requirements.txt (line 1)) (2024.9.11)\n",
      "Requirement already satisfied: requests>=2.26.0 in /Users/jphillips/miniforge3/envs/lapa/lib/python3.10/site-packages (from tiktoken>=0.7.0->litellm->-r requirements.txt (line 1)) (2.32.3)\n",
      "Requirement already satisfied: distlib<1,>=0.3.7 in /Users/jphillips/miniforge3/envs/lapa/lib/python3.10/site-packages (from virtualenv>=20.10.0->pre-commit->-r requirements.txt (line 16)) (0.3.9)\n",
      "Requirement already satisfied: filelock<4,>=3.12.2 in /Users/jphillips/miniforge3/envs/lapa/lib/python3.10/site-packages (from virtualenv>=20.10.0->pre-commit->-r requirements.txt (line 16)) (3.16.1)\n",
      "Requirement already satisfied: propcache>=0.2.0 in /Users/jphillips/miniforge3/envs/lapa/lib/python3.10/site-packages (from yarl<2.0,>=1.12.0->aiohttp->-r requirements.txt (line 7)) (0.2.0)\n",
      "Requirement already satisfied: huggingface-hub<1.0,>=0.16.4 in /Users/jphillips/miniforge3/envs/lapa/lib/python3.10/site-packages (from tokenizers->litellm->-r requirements.txt (line 1)) (0.26.1)\n",
      "Requirement already satisfied: fsspec>=2023.5.0 in /Users/jphillips/miniforge3/envs/lapa/lib/python3.10/site-packages (from huggingface-hub<1.0,>=0.16.4->tokenizers->litellm->-r requirements.txt (line 1)) (2024.9.0)\n",
      "Requirement already satisfied: charset-normalizer<4,>=2 in /Users/jphillips/miniforge3/envs/lapa/lib/python3.10/site-packages (from requests>=2.26.0->tiktoken>=0.7.0->litellm->-r requirements.txt (line 1)) (3.4.0)\n",
      "Requirement already satisfied: urllib3<3,>=1.21.1 in /Users/jphillips/miniforge3/envs/lapa/lib/python3.10/site-packages (from requests>=2.26.0->tiktoken>=0.7.0->litellm->-r requirements.txt (line 1)) (2.2.3)\n"
     ]
    }
   ],
   "source": [
    "!pip install -r requirements.txt"
   ]
  },
  {
   "cell_type": "code",
   "execution_count": 4,
   "metadata": {},
   "outputs": [],
   "source": [
    "import nest_asyncio\n",
    "nest_asyncio.apply()\n",
    "import asyncio\n",
    "\n",
    "\n",
    "import re\n",
    "import json\n"
   ]
  },
  {
   "cell_type": "code",
   "execution_count": 5,
   "metadata": {},
   "outputs": [],
   "source": [
    "import matplotlib.pyplot as plt\n",
    "import numpy as np\n",
    "from IPython.display import clear_output, display\n",
    "import time\n",
    "\n",
    "bridge_trajs = np.load(\"assets/bridge_v2_10_trajs.npy\", allow_pickle=True)"
   ]
  },
  {
   "cell_type": "code",
   "execution_count": 6,
   "metadata": {},
   "outputs": [],
   "source": [
    "from vlm_autoeval_robot_benchmark.utils.ecot_primitives import ecot_primitive_movements, inverse_ecot_primitive_movements\n",
    "from vlm_autoeval_robot_benchmark.models.vlm import VLM, create_vlm_request, parse_vlm_response\n"
   ]
  },
  {
   "cell_type": "code",
   "execution_count": 7,
   "metadata": {},
   "outputs": [],
   "source": [
    "def show_trajectory_video(descriptors, delay=0.2, wait_for_key=False):\n",
    "    \"\"\"Show observations as a video with either delay between frames or keystroke.\n",
    "    \n",
    "    Args:\n",
    "        descriptors: Dictionary containing trajectory information\n",
    "        delay: Time delay between frames if wait_for_key is False\n",
    "        wait_for_key: If True, wait for any key press between frames\n",
    "    \"\"\"\n",
    "    plt.figure(figsize=(10, 10))\n",
    "    for i, obs in enumerate(descriptors[\"obs\"]):\n",
    "        clear_output(wait=True)\n",
    "        plt.imshow(obs)\n",
    "        title = f\"Frame {i} - {descriptors['task_language_instruction']}\"\n",
    "        for k,v in descriptors['moves'][i].items():\n",
    "            title += f\"\\n------------------------\\n{k} - {v}\"\n",
    "        plt.title(title)\n",
    "        plt.axis('off')\n",
    "        display(plt.gcf())\n",
    "        \n",
    "        if wait_for_key:\n",
    "            input(\"Press Enter to continue...\")  # Wait for any key\n",
    "        else:\n",
    "            time.sleep(delay)\n",
    "    plt.close()"
   ]
  },
  {
   "cell_type": "code",
   "execution_count": 8,
   "metadata": {},
   "outputs": [],
   "source": [
    "def repackage_to_episode(traj):\n",
    "    steps = []\n",
    "    for i in range(len(traj[\"observations\"])):\n",
    "        step = {}\n",
    "        step[\"observation\"] = traj[\"observations\"][i]\n",
    "        step[\"action\"] = traj[\"actions\"][i]\n",
    "        steps.append(step)\n",
    "    return dict(steps=steps)"
   ]
  },
  {
   "cell_type": "code",
   "execution_count": 9,
   "metadata": {},
   "outputs": [],
   "source": [
    "THRESHOLD = 0.00\n",
    "WINDOW = 2\n",
    "GRIPPER_INDEX = 6\n",
    "GRIPPER_OPEN_THRESHOLD = 0.95\n",
    "\n",
    "def get_gripper_position(gripper_state: float) -> str:\n",
    "    return \"OPEN\" if gripper_state > GRIPPER_OPEN_THRESHOLD else \"CLOSED\"\n",
    "\n",
    "def get_descriptors(traj):\n",
    "    move_primitives = ecot_primitive_movements.get_move_primitives_episode(repackage_to_episode(traj), threshold=THRESHOLD, window=WINDOW)\n",
    "    move_primitives = [dict(ecot=move) for move in move_primitives]\n",
    "    obs_list = [t[\"images0\"] for t in traj[\"observations\"]]  # list of obs\n",
    "    gt_actions = traj[\"actions\"]  # list of ground truth actions\n",
    "    gripper_states = [get_gripper_position(t[\"states\"][GRIPPER_INDEX]) for t in traj[\"observations\"]]\n",
    "    task_language_instruction = traj[\"language\"][0] if \"language\" in traj else None\n",
    "    return dict(moves=move_primitives, obs=obs_list, gt_actions=gt_actions, task_language_instruction=task_language_instruction, gripper_states=gripper_states)"
   ]
  },
  {
   "cell_type": "code",
   "execution_count": 10,
   "metadata": {},
   "outputs": [],
   "source": [
    "traj_idx = 2  # Change this to visualize different trajectories\n",
    "episode_descriptors = get_descriptors(bridge_trajs[traj_idx])\n",
    "# show_trajectory_video(episode_descriptors, delay=0.15)"
   ]
  },
  {
   "cell_type": "code",
   "execution_count": 11,
   "metadata": {},
   "outputs": [
    {
     "name": "stdout",
     "output_type": "stream",
     "text": [
      "0 abriu a gaveta\n",
      "1 close the drawer\n",
      "2 removed the green thing from the drawer and placed it on the left side of the table.\n",
      "3 take the red object out of the pot and put it on the left burner\n",
      "4 take the blue stuffed animal and leaves it inside the drawer.\n",
      "5 open the drawer\n",
      "6 close the drawer\n",
      "7 Open the drawer\n",
      "8 close the drawer\n",
      "9 removed the blue object from the drawer and put it on the lower left side of the table\n"
     ]
    }
   ],
   "source": [
    "for i, traj in enumerate(bridge_trajs):\n",
    "    descriptors = get_descriptors(traj)\n",
    "    print(i, descriptors['task_language_instruction'])"
   ]
  },
  {
   "cell_type": "code",
   "execution_count": 12,
   "metadata": {},
   "outputs": [],
   "source": [
    "from primitive_moves_tester import run_test, print_test_results"
   ]
  },
  {
   "cell_type": "code",
   "execution_count": 13,
   "metadata": {},
   "outputs": [],
   "source": [
    "traj = bridge_trajs[traj_idx]\n",
    "episode_descriptors = get_descriptors(bridge_trajs[traj_idx])"
   ]
  },
  {
   "cell_type": "code",
   "execution_count": 14,
   "metadata": {},
   "outputs": [],
   "source": [
    "import io\n",
    "import numpy as np\n",
    "from PIL import Image\n",
    "\n",
    "def numpy_array_to_png_bytes(arr: np.ndarray) -> bytes:\n",
    "    \"\"\"\n",
    "    Convert a NumPy array to PNG file bytes, as if it was saved as a PNG and then read with fp.read()\n",
    "    \n",
    "    Args:\n",
    "        arr: NumPy array with shape (height, width, 3) and dtype uint8\n",
    "        \n",
    "    Returns:\n",
    "        PNG file bytes\n",
    "    \"\"\"\n",
    "    # Ensure the array is the right shape and type\n",
    "    if len(arr.shape) != 3 or arr.shape[2] != 3:\n",
    "        raise ValueError(f\"Expected array with shape (height, width, 3), got {arr.shape}\")\n",
    "    \n",
    "    if arr.dtype != np.uint8:\n",
    "        arr = arr.astype(np.uint8)\n",
    "    \n",
    "    # Convert the NumPy array to a PIL Image\n",
    "    img = Image.fromarray(arr)\n",
    "    \n",
    "    # Create a BytesIO object to store the image bytes\n",
    "    buffer = io.BytesIO()\n",
    "    \n",
    "    # Save the image to the BytesIO object as PNG\n",
    "    img.save(buffer, format=\"PNG\")\n",
    "    \n",
    "    # Get the bytes from the BytesIO object\n",
    "    png_bytes = buffer.getvalue()\n",
    "    \n",
    "    return png_bytes"
   ]
  },
  {
   "cell_type": "code",
   "execution_count": 15,
   "metadata": {},
   "outputs": [],
   "source": [
    "sub_episode_descriptors = dict()\n",
    "sub_step_interval = 5  \n",
    "\n",
    "for k,v in episode_descriptors.items():\n",
    "    if isinstance(v, list):\n",
    "        sub_episode_descriptors[k] = v[::sub_step_interval]\n",
    "    else:\n",
    "        sub_episode_descriptors[k] = v"
   ]
  },
  {
   "cell_type": "code",
   "execution_count": 16,
   "metadata": {},
   "outputs": [
    {
     "ename": "ValueError",
     "evalue": "The truth value of an array with more than one element is ambiguous. Use a.any() or a.all()",
     "output_type": "error",
     "traceback": [
      "\u001b[0;31m---------------------------------------------------------------------------\u001b[0m",
      "\u001b[0;31mValueError\u001b[0m                                Traceback (most recent call last)",
      "Cell \u001b[0;32mIn[16], line 15\u001b[0m\n\u001b[1;32m     13\u001b[0m task_desc \u001b[38;5;241m=\u001b[39m sub_episode_descriptors[\u001b[38;5;124m\"\u001b[39m\u001b[38;5;124mtask_language_instruction\u001b[39m\u001b[38;5;124m\"\u001b[39m]\n\u001b[1;32m     14\u001b[0m img_bytes \u001b[38;5;241m=\u001b[39m [numpy_array_to_png_bytes(img) \u001b[38;5;28;01mfor\u001b[39;00m img \u001b[38;5;129;01min\u001b[39;00m sub_episode_descriptors[\u001b[38;5;124m\"\u001b[39m\u001b[38;5;124mobs\u001b[39m\u001b[38;5;124m\"\u001b[39m]]\n\u001b[0;32m---> 15\u001b[0m gripper_positions \u001b[38;5;241m=\u001b[39m [get_gripper_position(state[GRIPPER_INDEX]) \u001b[38;5;28;01mfor\u001b[39;00m state \u001b[38;5;129;01min\u001b[39;00m sub_episode_descriptors[\u001b[38;5;124m\"\u001b[39m\u001b[38;5;124mobs\u001b[39m\u001b[38;5;124m\"\u001b[39m]]\n",
      "Cell \u001b[0;32mIn[16], line 15\u001b[0m, in \u001b[0;36m<listcomp>\u001b[0;34m(.0)\u001b[0m\n\u001b[1;32m     13\u001b[0m task_desc \u001b[38;5;241m=\u001b[39m sub_episode_descriptors[\u001b[38;5;124m\"\u001b[39m\u001b[38;5;124mtask_language_instruction\u001b[39m\u001b[38;5;124m\"\u001b[39m]\n\u001b[1;32m     14\u001b[0m img_bytes \u001b[38;5;241m=\u001b[39m [numpy_array_to_png_bytes(img) \u001b[38;5;28;01mfor\u001b[39;00m img \u001b[38;5;129;01min\u001b[39;00m sub_episode_descriptors[\u001b[38;5;124m\"\u001b[39m\u001b[38;5;124mobs\u001b[39m\u001b[38;5;124m\"\u001b[39m]]\n\u001b[0;32m---> 15\u001b[0m gripper_positions \u001b[38;5;241m=\u001b[39m [\u001b[43mget_gripper_position\u001b[49m\u001b[43m(\u001b[49m\u001b[43mstate\u001b[49m\u001b[43m[\u001b[49m\u001b[43mGRIPPER_INDEX\u001b[49m\u001b[43m]\u001b[49m\u001b[43m)\u001b[49m \u001b[38;5;28;01mfor\u001b[39;00m state \u001b[38;5;129;01min\u001b[39;00m sub_episode_descriptors[\u001b[38;5;124m\"\u001b[39m\u001b[38;5;124mobs\u001b[39m\u001b[38;5;124m\"\u001b[39m]]\n",
      "Cell \u001b[0;32mIn[16], line 9\u001b[0m, in \u001b[0;36mget_gripper_position\u001b[0;34m(gripper_state)\u001b[0m\n\u001b[1;32m      8\u001b[0m \u001b[38;5;28;01mdef\u001b[39;00m\u001b[38;5;250m \u001b[39m\u001b[38;5;21mget_gripper_position\u001b[39m(gripper_state: \u001b[38;5;28mfloat\u001b[39m) \u001b[38;5;241m-\u001b[39m\u001b[38;5;241m>\u001b[39m \u001b[38;5;28mstr\u001b[39m:\n\u001b[0;32m----> 9\u001b[0m     \u001b[38;5;28;01mreturn\u001b[39;00m \u001b[38;5;124m\"\u001b[39m\u001b[38;5;124mOPEN\u001b[39m\u001b[38;5;124m\"\u001b[39m \u001b[38;5;28;01mif\u001b[39;00m gripper_state \u001b[38;5;241m>\u001b[39m GRIPPER_OPEN_THRESHOLD \u001b[38;5;28;01melse\u001b[39;00m \u001b[38;5;124m\"\u001b[39m\u001b[38;5;124mCLOSED\u001b[39m\u001b[38;5;124m\"\u001b[39m\n",
      "\u001b[0;31mValueError\u001b[0m: The truth value of an array with more than one element is ambiguous. Use a.any() or a.all()"
     ]
    }
   ],
   "source": [
    "# model = \"gpt-4o\"\n",
    "# model = \"gemini/gemini-2.0-flash\"\n",
    "# model = \"gemini/gemini-2.0-pro-exp\"\n",
    "model = \"gemini/gemini-2.5-pro-preview-03-25\"\n",
    "\n",
    "env_desc = \"You are looking at a wooden desk with a black robot arm. The desk has a drawer with a handle and some objects on it.\"\n",
    "task_desc = sub_episode_descriptors[\"task_language_instruction\"]\n",
    "img_bytes = [numpy_array_to_png_bytes(img) for img in sub_episode_descriptors[\"obs\"]]"
   ]
  },
  {
   "cell_type": "code",
   "execution_count": null,
   "metadata": {},
   "outputs": [],
   "source": [
    "from vlm_autoeval_robot_benchmark.models.vlm import parse_vlm_responses\n",
    "import litellm\n",
    "litellm._turn_on_debug()\n",
    "\n",
    "HISTORY_PREFIX = \"This shows the history of a robotics episode.\"\n",
    "HISTORY_SUFFIX = \"Consider this history to answer the question below. Describe the history in detail before answering the question.\"\n",
    "\n",
    "async def run_episode(model, env_desc, task_desc, img_bytes_list, gripper_descriptors):\n",
    "    vlm = VLM()\n",
    "    reqs = []\n",
    "    input_history = []\n",
    "    for i in range(len(img_bytes_list)):\n",
    "        if input_history:\n",
    "            current_history = dict(prefix=HISTORY_PREFIX, vlm_inputs=[input_history[-min(2, len(input_history))]], suffix=HISTORY_SUFFIX)\n",
    "        else:\n",
    "            current_history = None\n",
    "        reqs.append(create_vlm_request(model, img_bytes_list[i], env_desc, task_desc, gripper_position=gripper_descriptors[i], history=current_history))\n",
    "        input_history.append((\"Historical image\", [img_bytes_list[i]]))\n",
    "    responses = await vlm.generate_parallel(reqs)\n",
    "    results = parse_vlm_responses(responses)\n",
    "    return results, responses, reqs\n",
    "\n",
    "# Run all tests in parallel\n",
    "results, responses, reqs = asyncio.run(run_episode(\n",
    "    model,\n",
    "    env_desc,\n",
    "    task_desc,\n",
    "    img_bytes,  # assuming img_bytes is your list of image bytes\n",
    "))\n",
    "print_test_results(results)"
   ]
  },
  {
   "cell_type": "code",
   "execution_count": null,
   "metadata": {},
   "outputs": [],
   "source": [
    "bad = [r for r in results if 'answer' not in r]\n",
    "print(f\"num bad: {len(bad)}\")\n",
    "if len(bad) > 0:\n",
    "    print(bad[0]['error'])\n",
    "    print(bad[0]['raw_response'])"
   ]
  },
  {
   "cell_type": "code",
   "execution_count": 18,
   "metadata": {},
   "outputs": [],
   "source": [
    "for t, res in enumerate(results):\n",
    "    description = res['description']\n",
    "    sub_episode_descriptors['moves'][t]['vlm - desc'] = \"\\n\".join([description[x:x+100] for x in range(0, len(description), 100)])\n",
    "    action_texts = []\n",
    "    for k in ['x', 'y', 'z', 'tilt', 'roll', 'rotation', 'gripper']:\n",
    "        action_texts.append(f\"{res['answer'][k][0]}\" + (f\"({res['answer'][k][1]})\" if res['answer'][k][1] != 0.0 else \"\"))\n",
    "    sub_episode_descriptors['moves'][t]['vlm'] = \" , \".join([a for a in action_texts if a != 'None'])"
   ]
  },
  {
   "cell_type": "code",
   "execution_count": null,
   "metadata": {},
   "outputs": [],
   "source": []
  },
  {
   "cell_type": "code",
   "execution_count": null,
   "metadata": {},
   "outputs": [],
   "source": [
    "show_trajectory_video(sub_episode_descriptors, delay=5, wait_for_key=True)"
   ]
  },
  {
   "cell_type": "code",
   "execution_count": null,
   "metadata": {},
   "outputs": [],
   "source": [
    "print(responses[1][1].text)"
   ]
  },
  {
   "cell_type": "markdown",
   "metadata": {},
   "source": [
    "# JUST PROVIDE THE CURRENT GRIPPER STATE!!!"
   ]
  },
  {
   "cell_type": "code",
   "execution_count": null,
   "metadata": {},
   "outputs": [],
   "source": []
  }
 ],
 "metadata": {
  "kernelspec": {
   "display_name": "lapa",
   "language": "python",
   "name": "python3"
  },
  "language_info": {
   "codemirror_mode": {
    "name": "ipython",
    "version": 3
   },
   "file_extension": ".py",
   "mimetype": "text/x-python",
   "name": "python",
   "nbconvert_exporter": "python",
   "pygments_lexer": "ipython3",
   "version": "3.10.15"
  }
 },
 "nbformat": 4,
 "nbformat_minor": 2
}
